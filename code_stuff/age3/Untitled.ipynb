{
 "cells": [
  {
   "cell_type": "code",
   "execution_count": 1,
   "id": "431fcc06-e2df-4276-af26-e270531fdbd9",
   "metadata": {},
   "outputs": [],
   "source": [
    "import bs4\n",
    "from bs4 import BeautifulSoup\n",
    "\n",
    "with open(\"./html/ashigaru.html\") as fp:\n",
    "    soup = BeautifulSoup(fp, 'html.parser')"
   ]
  },
  {
   "cell_type": "code",
   "execution_count": 2,
   "id": "801a76d6-c94d-48c5-87be-de96ab7c5860",
   "metadata": {},
   "outputs": [],
   "source": [
    "f = soup.find_all('section', class_=\"pi-item pi-group pi-border-color\")"
   ]
  },
  {
   "cell_type": "code",
   "execution_count": 12,
   "id": "10d703a5-9dea-41b8-9575-d9252798632c",
   "metadata": {},
   "outputs": [],
   "source": [
    "test_f = f[1]"
   ]
  },
  {
   "cell_type": "code",
   "execution_count": 37,
   "id": "67171f4b-b054-4ad8-abb6-1af36f404d67",
   "metadata": {},
   "outputs": [
    {
     "data": {
      "text/plain": [
       "['\\n',\n",
       " <h3 class=\"pi-data-label pi-secondary-font\">Training time</h3>,\n",
       " '\\n',\n",
       " <div class=\"pi-data-value pi-font\">33 seconds</div>,\n",
       " '\\n']"
      ]
     },
     "execution_count": 37,
     "metadata": {},
     "output_type": "execute_result"
    }
   ],
   "source": [
    "test_f.css.select(\"div\")[8].contents"
   ]
  },
  {
   "cell_type": "code",
   "execution_count": 41,
   "id": "aea4b122-760d-47c4-a9ce-fc98e909afee",
   "metadata": {},
   "outputs": [
    {
     "name": "stdout",
     "output_type": "stream",
     "text": [
      "Trained at:  BarracksDaimyo Atakabune, \n",
      "not a div, \n",
      "Population: 1, \n",
      "not a div, \n",
      "Food: Food: 80, \n",
      "not a div, \n",
      "Coin: Coin: 40, \n",
      "not a div, \n",
      "Training time: 33 seconds, \n",
      "not a div, \n"
     ]
    }
   ],
   "source": [
    "for aux in test_f.css.select(\"div\"):\n",
    "\n",
    "    # try to get name\n",
    "    try:\n",
    "        control_var = aux.find(\"span\").text \n",
    "        if control_var is not None: print(control_var, end=\": \")\n",
    "    except:\n",
    "        # print(\"not span tag\", end=\", \")\n",
    "        pass\n",
    "    try:\n",
    "        control_var = aux.find(\"s\").text \n",
    "        if control_var is not None: print(control_var, end=\": \")\n",
    "        # print(aux.find(\"a\").text, end=\", \")\n",
    "    except:\n",
    "        # print(\"not a tag\", end=\", \")\n",
    "        pass\n",
    "\n",
    "    try:\n",
    "        control_var = aux.find(\"h3\").text \n",
    "        if control_var is not None: print(control_var, end=\": \")\n",
    "        # print(aux.find(\"a\").text, end=\", \")\n",
    "    except:\n",
    "        # print(\"not a tag\", end=\", \")\n",
    "        pass\n",
    "\n",
    "    \n",
    "    # try to get value\n",
    "    try:\n",
    "        print(aux.find(\"div\").text, end=\", \")\n",
    "    except:\n",
    "        print(\"not a div\", end=\", \")\n",
    "\n",
    "\n",
    "    print()"
   ]
  },
  {
   "cell_type": "code",
   "execution_count": 14,
   "id": "85f1c36b-4ecc-4b17-90e3-03ddc51809b2",
   "metadata": {},
   "outputs": [
    {
     "data": {
      "text/plain": [
       "{'class': ['pi-item', 'pi-data', 'pi-item-spacing', 'pi-border-color'],\n",
       " 'data-source': 'Building'}"
      ]
     },
     "execution_count": 14,
     "metadata": {},
     "output_type": "execute_result"
    }
   ],
   "source": [
    "test_f.css.select(\"div\")[0].attrs"
   ]
  },
  {
   "cell_type": "code",
   "execution_count": 15,
   "id": "858cd055-48d9-4025-a4c5-3aeebf447054",
   "metadata": {},
   "outputs": [
    {
     "data": {
      "text/plain": [
       "'Building'"
      ]
     },
     "execution_count": 15,
     "metadata": {},
     "output_type": "execute_result"
    }
   ],
   "source": [
    "test_f.css.select(\"div\")[0]['data-source']"
   ]
  },
  {
   "cell_type": "code",
   "execution_count": 16,
   "id": "c38c0872-3d68-4598-9c23-9883f8d42da7",
   "metadata": {},
   "outputs": [
    {
     "data": {
      "text/plain": [
       "['DEFAULT_INTERESTING_STRING_TYPES',\n",
       " 'EMPTY_ELEMENT_EVENT',\n",
       " 'END_ELEMENT_EVENT',\n",
       " 'START_ELEMENT_EVENT',\n",
       " 'STRING_ELEMENT_EVENT',\n",
       " '__bool__',\n",
       " '__call__',\n",
       " '__class__',\n",
       " '__contains__',\n",
       " '__copy__',\n",
       " '__deepcopy__',\n",
       " '__delattr__',\n",
       " '__delitem__',\n",
       " '__dict__',\n",
       " '__dir__',\n",
       " '__doc__',\n",
       " '__eq__',\n",
       " '__format__',\n",
       " '__ge__',\n",
       " '__getattr__',\n",
       " '__getattribute__',\n",
       " '__getitem__',\n",
       " '__gt__',\n",
       " '__hash__',\n",
       " '__init__',\n",
       " '__init_subclass__',\n",
       " '__iter__',\n",
       " '__le__',\n",
       " '__len__',\n",
       " '__lt__',\n",
       " '__module__',\n",
       " '__ne__',\n",
       " '__new__',\n",
       " '__reduce__',\n",
       " '__reduce_ex__',\n",
       " '__repr__',\n",
       " '__setattr__',\n",
       " '__setitem__',\n",
       " '__sizeof__',\n",
       " '__str__',\n",
       " '__subclasshook__',\n",
       " '__unicode__',\n",
       " '__weakref__',\n",
       " '_all_strings',\n",
       " '_clone',\n",
       " '_event_stream',\n",
       " '_find_all',\n",
       " '_find_one',\n",
       " '_format_tag',\n",
       " '_indent_string',\n",
       " '_is_xml',\n",
       " '_lastRecursiveChild',\n",
       " '_last_descendant',\n",
       " '_namespaces',\n",
       " '_should_pretty_print',\n",
       " 'append',\n",
       " 'attrs',\n",
       " 'can_be_empty_element',\n",
       " 'cdata_list_attributes',\n",
       " 'childGenerator',\n",
       " 'children',\n",
       " 'clear',\n",
       " 'contents',\n",
       " 'css',\n",
       " 'decode',\n",
       " 'decode_contents',\n",
       " 'decompose',\n",
       " 'decomposed',\n",
       " 'default',\n",
       " 'descendants',\n",
       " 'encode',\n",
       " 'encode_contents',\n",
       " 'extend',\n",
       " 'extract',\n",
       " 'fetchNextSiblings',\n",
       " 'fetchParents',\n",
       " 'fetchPrevious',\n",
       " 'fetchPreviousSiblings',\n",
       " 'find',\n",
       " 'findAll',\n",
       " 'findAllNext',\n",
       " 'findAllPrevious',\n",
       " 'findChild',\n",
       " 'findChildren',\n",
       " 'findNext',\n",
       " 'findNextSibling',\n",
       " 'findNextSiblings',\n",
       " 'findParent',\n",
       " 'findParents',\n",
       " 'findPrevious',\n",
       " 'findPreviousSibling',\n",
       " 'findPreviousSiblings',\n",
       " 'find_all',\n",
       " 'find_all_next',\n",
       " 'find_all_previous',\n",
       " 'find_next',\n",
       " 'find_next_sibling',\n",
       " 'find_next_siblings',\n",
       " 'find_parent',\n",
       " 'find_parents',\n",
       " 'find_previous',\n",
       " 'find_previous_sibling',\n",
       " 'find_previous_siblings',\n",
       " 'format_string',\n",
       " 'formatter_for_name',\n",
       " 'get',\n",
       " 'getText',\n",
       " 'get_attribute_list',\n",
       " 'get_text',\n",
       " 'has_attr',\n",
       " 'has_key',\n",
       " 'hidden',\n",
       " 'index',\n",
       " 'insert',\n",
       " 'insert_after',\n",
       " 'insert_before',\n",
       " 'interesting_string_types',\n",
       " 'isSelfClosing',\n",
       " 'is_empty_element',\n",
       " 'known_xml',\n",
       " 'name',\n",
       " 'namespace',\n",
       " 'next',\n",
       " 'nextGenerator',\n",
       " 'nextSibling',\n",
       " 'nextSiblingGenerator',\n",
       " 'next_element',\n",
       " 'next_elements',\n",
       " 'next_sibling',\n",
       " 'next_siblings',\n",
       " 'parent',\n",
       " 'parentGenerator',\n",
       " 'parents',\n",
       " 'parserClass',\n",
       " 'parser_class',\n",
       " 'prefix',\n",
       " 'preserve_whitespace_tags',\n",
       " 'prettify',\n",
       " 'previous',\n",
       " 'previousGenerator',\n",
       " 'previousSibling',\n",
       " 'previousSiblingGenerator',\n",
       " 'previous_element',\n",
       " 'previous_elements',\n",
       " 'previous_sibling',\n",
       " 'previous_siblings',\n",
       " 'recursiveChildGenerator',\n",
       " 'renderContents',\n",
       " 'replaceWith',\n",
       " 'replaceWithChildren',\n",
       " 'replace_with',\n",
       " 'replace_with_children',\n",
       " 'select',\n",
       " 'select_one',\n",
       " 'self_and_descendants',\n",
       " 'setup',\n",
       " 'smooth',\n",
       " 'sourceline',\n",
       " 'sourcepos',\n",
       " 'string',\n",
       " 'strings',\n",
       " 'stripped_strings',\n",
       " 'text',\n",
       " 'unwrap',\n",
       " 'wrap']"
      ]
     },
     "execution_count": 16,
     "metadata": {},
     "output_type": "execute_result"
    }
   ],
   "source": [
    "dir(test_f.css.select(\"div\")[0])"
   ]
  },
  {
   "cell_type": "code",
   "execution_count": 17,
   "id": "32edc00d-8b14-4de1-9022-d408689433cd",
   "metadata": {},
   "outputs": [
    {
     "data": {
      "text/plain": [
       "bs4.element.Tag"
      ]
     },
     "execution_count": 17,
     "metadata": {},
     "output_type": "execute_result"
    }
   ],
   "source": [
    "type(test_f.css.select(\"div\")[0])"
   ]
  },
  {
   "cell_type": "code",
   "execution_count": 18,
   "id": "8a3929f6-b8e3-4930-89c6-a7e77366f3b3",
   "metadata": {},
   "outputs": [
    {
     "name": "stdout",
     "output_type": "stream",
     "text": [
      "Building\n",
      "\n",
      "la\n",
      "Pop\n",
      "\n",
      "la\n",
      "Food\n",
      "\n",
      "la\n",
      "Coin\n",
      "\n",
      "la\n",
      "TrainTime\n",
      "\n",
      "la\n"
     ]
    }
   ],
   "source": [
    "for div in test_f.css.select(\"div\"):\n",
    "    try:\n",
    "        (div['data-source'])\n",
    "        print(div['data-source'])\n",
    "        if div['data-source'] == \"Type\":\n",
    "            # print(div.find_all(\"a\"))\n",
    "            a = div.find_all(\"a\")\n",
    "            for ai in a:\n",
    "                print(\"===================>: \",ai.text)\n",
    "        else:\n",
    "            print()\n",
    "    except:\n",
    "        print(\"la\")"
   ]
  },
  {
   "cell_type": "code",
   "execution_count": 19,
   "id": "33c2d1b1-2953-493b-9a7b-adfdea687fb6",
   "metadata": {},
   "outputs": [],
   "source": [
    "def get_type_data(soup, data_dict):\n",
    "    for div in soup.css.select(\"div\"):\n",
    "        # might not be best practice, but it works for now\n",
    "        # we jsut need the data\n",
    "        try:\n",
    "            print(div['data-source'])\n",
    "            if div['data-source'] == \"Type\":\n",
    "                # print(div.find_all(\"a\"))\n",
    "                a = div.find_all(\"a\")\n",
    "                for ai in a:\n",
    "                    print(\"===================>: \",ai.text)\n",
    "                    data_dict[ai.text] = 1 # como eu faço para guardar o dado aqui de um jeito eficiente?\n",
    "            # elif div['data-source'] == \"Civilization\":\n",
    "            #     data_dict\n",
    "            else:\n",
    "                a = div.find_all(\"a\")\n",
    "                for ai in a:\n",
    "                    print(\"===================>: \",ai.text)\n",
    "                data_dict[div['data-source']] = ai.text\n",
    "                print()\n",
    "        except:\n",
    "            print(\"la\")\n",
    "\n",
    "    return data_dict"
   ]
  },
  {
   "cell_type": "code",
   "execution_count": 107,
   "id": "07622c58-89a7-440b-856c-ce3fc6d09017",
   "metadata": {},
   "outputs": [
    {
     "data": {
      "text/plain": [
       "<div class=\"pi-item pi-data pi-item-spacing pi-border-color\" data-source=\"Food\">\n",
       "<h3 class=\"pi-data-label pi-secondary-font\"><a href=\"/wiki/Food\" title=\"Food\"><span style=\"color: crimson\">Food</span></a></h3>\n",
       "<div class=\"pi-data-value pi-font\">80</div>\n",
       "</div>"
      ]
     },
     "execution_count": 107,
     "metadata": {},
     "output_type": "execute_result"
    }
   ],
   "source": [
    "div = f[1].css.select(\"div\")[4]\n",
    "div"
   ]
  },
  {
   "cell_type": "code",
   "execution_count": 108,
   "id": "18d582ac-c6a3-4559-b00b-2eba055aabbe",
   "metadata": {},
   "outputs": [
    {
     "data": {
      "text/plain": [
       "<div class=\"pi-item pi-data pi-item-spacing pi-border-color\" data-source=\"Food\">\n",
       "<h3 class=\"pi-data-label pi-secondary-font\"><a href=\"/wiki/Food\" title=\"Food\"><span style=\"color: crimson\">Food</span></a></h3>\n",
       "<div class=\"pi-data-value pi-font\">80</div>\n",
       "</div>"
      ]
     },
     "execution_count": 108,
     "metadata": {},
     "output_type": "execute_result"
    }
   ],
   "source": [
    "div"
   ]
  },
  {
   "cell_type": "code",
   "execution_count": 109,
   "id": "b537bde7-62de-4a57-af61-16bb4387b7cf",
   "metadata": {},
   "outputs": [],
   "source": [
    "for t in div.find(\"div\").find_all(\"a\"):\n",
    "    print(t.text, end=\",\")"
   ]
  },
  {
   "cell_type": "code",
   "execution_count": 127,
   "id": "8abdd6de-a281-465b-b4a5-c4220ec9eb86",
   "metadata": {},
   "outputs": [],
   "source": [
    "def teste_func(test_f):\n",
    "    for aux in test_f.css.select(\"div\"):\n",
    "    \n",
    "        # try to get name\n",
    "        try:\n",
    "            control_var = aux.find(\"span\").text \n",
    "            if control_var is not None: print(control_var, end=\" \")\n",
    "        except:\n",
    "            # print(\"not span tag\", end=\", \")\n",
    "            # pass\n",
    "            try:\n",
    "                control_var = aux.find(\"h3\").text \n",
    "                if control_var is not None: print(control_var, end=\" \")\n",
    "                # print(aux.find(\"a\").text, end=\", \")\n",
    "            except:\n",
    "                # print(\"not a tag\", end=\", \")\n",
    "                # pass\n",
    "        \n",
    "                try:\n",
    "                    control_var = aux.find(\"a\").text \n",
    "                    if control_var is not None: print(control_var, end=\" \")\n",
    "                    # print(aux.find(\"a\").text, end=\", \")\n",
    "                except:\n",
    "                    # print(\"not a tag\", end=\", \")\n",
    "                    pass\n",
    "        print(\":\", end=\"\")\n",
    "        \n",
    "        \n",
    "        # try to get value\n",
    "        val = aux.find(\"div\")\n",
    "        try:\n",
    "            # print(val.text)\n",
    "            for val_text in val.find_all(\"a\"):\n",
    "                if control_var is not None: print(val_text.text, end=\",\")\n",
    "        except:\n",
    "            pass\n",
    "        try:\n",
    "            print(aux.find(\"div\").text, end=\" \")\n",
    "        except:\n",
    "            print(\"not a div\", end=\" \")\n",
    "    \n",
    "    \n",
    "        print()"
   ]
  },
  {
   "cell_type": "code",
   "execution_count": 128,
   "id": "0e0ce06b-4b79-4d44-bf6a-990cc85a8286",
   "metadata": {},
   "outputs": [
    {
     "name": "stdout",
     "output_type": "stream",
     "text": [
      "Trained at :,Barracks,Daimyo,,Atakabune, BarracksDaimyo Atakabune \n",
      " :not a div \n",
      "Population :1 \n",
      ":not a div \n",
      "Food :80 \n",
      ":not a div \n",
      "Coin :40 \n",
      ":not a div \n",
      "Training time :33 seconds \n",
      ":not a div \n"
     ]
    }
   ],
   "source": [
    "teste_func(f[1])"
   ]
  },
  {
   "cell_type": "code",
   "execution_count": 103,
   "id": "18928a15-d2bf-4985-abcf-024096c62533",
   "metadata": {},
   "outputs": [
    {
     "name": "stdout",
     "output_type": "stream",
     "text": [
      "Intro\n",
      "===================>:  \n",
      "===================>:  Age of Empires III: The Asian Dynasties\n",
      "\n",
      "la\n",
      "Type\n",
      "===================>:  \n",
      "===================>:  Infantry\n",
      "===================>:  \n",
      "===================>:  Heavy infantry\n",
      "===================>:  Ranged infantry\n",
      "===================>:  Gunpowder unit\n",
      "===================>:  Musket Infantry\n",
      "la\n",
      "Civilization\n",
      "===================>:  \n",
      "===================>:  Japanese\n",
      "\n",
      "la\n",
      "Age\n",
      "===================>:  Age\n",
      "===================>:  \n",
      "===================>:  Commerce Age\n",
      "\n",
      "la\n"
     ]
    },
    {
     "data": {
      "text/plain": [
       "{'Intro': 'Age of Empires III: The Asian Dynasties',\n",
       " '': 1,\n",
       " 'Infantry': 1,\n",
       " 'Heavy infantry': 1,\n",
       " 'Ranged infantry': 1,\n",
       " 'Gunpowder unit': 1,\n",
       " 'Musket Infantry': 1,\n",
       " 'Civilization': 'Japanese',\n",
       " 'Age': 'Commerce Age'}"
      ]
     },
     "execution_count": 103,
     "metadata": {},
     "output_type": "execute_result"
    }
   ],
   "source": [
    "get_type_data(f[0], {})"
   ]
  },
  {
   "cell_type": "code",
   "execution_count": null,
   "id": "8ba70dbd-e28a-4f18-b1ea-e43463dff527",
   "metadata": {},
   "outputs": [],
   "source": [
    "for fi in f:\n",
    "    for "
   ]
  },
  {
   "cell_type": "code",
   "execution_count": null,
   "id": "423902f7-0c61-4a0b-a856-8c304187d477",
   "metadata": {},
   "outputs": [],
   "source": []
  },
  {
   "cell_type": "code",
   "execution_count": null,
   "id": "b2b51476-3527-46a7-ab55-378160027408",
   "metadata": {},
   "outputs": [],
   "source": []
  }
 ],
 "metadata": {
  "kernelspec": {
   "display_name": "Python 3 (ipykernel)",
   "language": "python",
   "name": "python3"
  },
  "language_info": {
   "codemirror_mode": {
    "name": "ipython",
    "version": 3
   },
   "file_extension": ".py",
   "mimetype": "text/x-python",
   "name": "python",
   "nbconvert_exporter": "python",
   "pygments_lexer": "ipython3",
   "version": "3.10.6"
  }
 },
 "nbformat": 4,
 "nbformat_minor": 5
}
