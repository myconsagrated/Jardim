{
 "cells": [
  {
   "cell_type": "code",
   "execution_count": 1,
   "id": "431fcc06-e2df-4276-af26-e270531fdbd9",
   "metadata": {},
   "outputs": [],
   "source": [
    "import bs4\n",
    "from bs4 import BeautifulSoup\n",
    "\n",
    "with open(\"./html/ashigaru.html\") as fp:\n",
    "    soup = BeautifulSoup(fp, 'html.parser')"
   ]
  },
  {
   "cell_type": "code",
   "execution_count": 2,
   "id": "801a76d6-c94d-48c5-87be-de96ab7c5860",
   "metadata": {},
   "outputs": [],
   "source": [
    "f = soup.find_all('section', class_=\"pi-item pi-group pi-border-color\")"
   ]
  },
  {
   "cell_type": "code",
   "execution_count": 3,
   "id": "10d703a5-9dea-41b8-9575-d9252798632c",
   "metadata": {},
   "outputs": [],
   "source": [
    "test_f = f[0]"
   ]
  },
  {
   "cell_type": "code",
   "execution_count": 9,
   "id": "67171f4b-b054-4ad8-abb6-1af36f404d67",
   "metadata": {},
   "outputs": [
    {
     "data": {
      "text/plain": [
       "['\\n',\n",
       " <h3 class=\"pi-data-label pi-secondary-font\">Introduced in</h3>,\n",
       " '\\n',\n",
       " <div class=\"pi-data-value pi-font\"><span class=\"AoE3icon\"><a class=\"image\" href=\"https://static.wikia.nocookie.net/ageofempires/images/4/47/3ADIcon48px.png/revision/latest?cb=20201227030010\"><img alt=\"3ADIcon48px\" data-image-key=\"3ADIcon48px.png\" data-image-name=\"3ADIcon48px.png\" decoding=\"async\" height=\"22\" loading=\"lazy\" src=\"https://static.wikia.nocookie.net/ageofempires/images/4/47/3ADIcon48px.png/revision/latest/scale-to-width-down/22?cb=20201227030010\" width=\"22\"/></a></span> <i><a href=\"/wiki/Age_of_Empires_III:_The_Asian_Dynasties\" title=\"Age of Empires III: The Asian Dynasties\">Age of Empires III: The Asian Dynasties</a></i></div>,\n",
       " '\\n']"
      ]
     },
     "execution_count": 9,
     "metadata": {},
     "output_type": "execute_result"
    }
   ],
   "source": [
    "test_f.css.select(\"div\")[0].contents"
   ]
  },
  {
   "cell_type": "code",
   "execution_count": 16,
   "id": "85f1c36b-4ecc-4b17-90e3-03ddc51809b2",
   "metadata": {},
   "outputs": [
    {
     "data": {
      "text/plain": [
       "{'class': ['pi-item', 'pi-data', 'pi-item-spacing', 'pi-border-color'],\n",
       " 'data-source': 'Intro'}"
      ]
     },
     "execution_count": 16,
     "metadata": {},
     "output_type": "execute_result"
    }
   ],
   "source": [
    "test_f.css.select(\"div\")[0].attrs"
   ]
  },
  {
   "cell_type": "code",
   "execution_count": 17,
   "id": "858cd055-48d9-4025-a4c5-3aeebf447054",
   "metadata": {},
   "outputs": [
    {
     "data": {
      "text/plain": [
       "'Intro'"
      ]
     },
     "execution_count": 17,
     "metadata": {},
     "output_type": "execute_result"
    }
   ],
   "source": [
    "test_f.css.select(\"div\")[0]['data-source']"
   ]
  },
  {
   "cell_type": "code",
   "execution_count": 8,
   "id": "c38c0872-3d68-4598-9c23-9883f8d42da7",
   "metadata": {},
   "outputs": [
    {
     "data": {
      "text/plain": [
       "['DEFAULT_INTERESTING_STRING_TYPES',\n",
       " 'EMPTY_ELEMENT_EVENT',\n",
       " 'END_ELEMENT_EVENT',\n",
       " 'START_ELEMENT_EVENT',\n",
       " 'STRING_ELEMENT_EVENT',\n",
       " '__bool__',\n",
       " '__call__',\n",
       " '__class__',\n",
       " '__contains__',\n",
       " '__copy__',\n",
       " '__deepcopy__',\n",
       " '__delattr__',\n",
       " '__delitem__',\n",
       " '__dict__',\n",
       " '__dir__',\n",
       " '__doc__',\n",
       " '__eq__',\n",
       " '__format__',\n",
       " '__ge__',\n",
       " '__getattr__',\n",
       " '__getattribute__',\n",
       " '__getitem__',\n",
       " '__gt__',\n",
       " '__hash__',\n",
       " '__init__',\n",
       " '__init_subclass__',\n",
       " '__iter__',\n",
       " '__le__',\n",
       " '__len__',\n",
       " '__lt__',\n",
       " '__module__',\n",
       " '__ne__',\n",
       " '__new__',\n",
       " '__reduce__',\n",
       " '__reduce_ex__',\n",
       " '__repr__',\n",
       " '__setattr__',\n",
       " '__setitem__',\n",
       " '__sizeof__',\n",
       " '__str__',\n",
       " '__subclasshook__',\n",
       " '__unicode__',\n",
       " '__weakref__',\n",
       " '_all_strings',\n",
       " '_clone',\n",
       " '_event_stream',\n",
       " '_find_all',\n",
       " '_find_one',\n",
       " '_format_tag',\n",
       " '_indent_string',\n",
       " '_is_xml',\n",
       " '_lastRecursiveChild',\n",
       " '_last_descendant',\n",
       " '_namespaces',\n",
       " '_should_pretty_print',\n",
       " 'append',\n",
       " 'attrs',\n",
       " 'can_be_empty_element',\n",
       " 'cdata_list_attributes',\n",
       " 'childGenerator',\n",
       " 'children',\n",
       " 'clear',\n",
       " 'contents',\n",
       " 'css',\n",
       " 'decode',\n",
       " 'decode_contents',\n",
       " 'decompose',\n",
       " 'decomposed',\n",
       " 'default',\n",
       " 'descendants',\n",
       " 'encode',\n",
       " 'encode_contents',\n",
       " 'extend',\n",
       " 'extract',\n",
       " 'fetchNextSiblings',\n",
       " 'fetchParents',\n",
       " 'fetchPrevious',\n",
       " 'fetchPreviousSiblings',\n",
       " 'find',\n",
       " 'findAll',\n",
       " 'findAllNext',\n",
       " 'findAllPrevious',\n",
       " 'findChild',\n",
       " 'findChildren',\n",
       " 'findNext',\n",
       " 'findNextSibling',\n",
       " 'findNextSiblings',\n",
       " 'findParent',\n",
       " 'findParents',\n",
       " 'findPrevious',\n",
       " 'findPreviousSibling',\n",
       " 'findPreviousSiblings',\n",
       " 'find_all',\n",
       " 'find_all_next',\n",
       " 'find_all_previous',\n",
       " 'find_next',\n",
       " 'find_next_sibling',\n",
       " 'find_next_siblings',\n",
       " 'find_parent',\n",
       " 'find_parents',\n",
       " 'find_previous',\n",
       " 'find_previous_sibling',\n",
       " 'find_previous_siblings',\n",
       " 'format_string',\n",
       " 'formatter_for_name',\n",
       " 'get',\n",
       " 'getText',\n",
       " 'get_attribute_list',\n",
       " 'get_text',\n",
       " 'has_attr',\n",
       " 'has_key',\n",
       " 'hidden',\n",
       " 'index',\n",
       " 'insert',\n",
       " 'insert_after',\n",
       " 'insert_before',\n",
       " 'interesting_string_types',\n",
       " 'isSelfClosing',\n",
       " 'is_empty_element',\n",
       " 'known_xml',\n",
       " 'name',\n",
       " 'namespace',\n",
       " 'next',\n",
       " 'nextGenerator',\n",
       " 'nextSibling',\n",
       " 'nextSiblingGenerator',\n",
       " 'next_element',\n",
       " 'next_elements',\n",
       " 'next_sibling',\n",
       " 'next_siblings',\n",
       " 'parent',\n",
       " 'parentGenerator',\n",
       " 'parents',\n",
       " 'parserClass',\n",
       " 'parser_class',\n",
       " 'prefix',\n",
       " 'preserve_whitespace_tags',\n",
       " 'prettify',\n",
       " 'previous',\n",
       " 'previousGenerator',\n",
       " 'previousSibling',\n",
       " 'previousSiblingGenerator',\n",
       " 'previous_element',\n",
       " 'previous_elements',\n",
       " 'previous_sibling',\n",
       " 'previous_siblings',\n",
       " 'recursiveChildGenerator',\n",
       " 'renderContents',\n",
       " 'replaceWith',\n",
       " 'replaceWithChildren',\n",
       " 'replace_with',\n",
       " 'replace_with_children',\n",
       " 'select',\n",
       " 'select_one',\n",
       " 'self_and_descendants',\n",
       " 'setup',\n",
       " 'smooth',\n",
       " 'sourceline',\n",
       " 'sourcepos',\n",
       " 'string',\n",
       " 'strings',\n",
       " 'stripped_strings',\n",
       " 'text',\n",
       " 'unwrap',\n",
       " 'wrap']"
      ]
     },
     "execution_count": 8,
     "metadata": {},
     "output_type": "execute_result"
    }
   ],
   "source": [
    "dir(test_f.css.select(\"div\")[0])"
   ]
  },
  {
   "cell_type": "code",
   "execution_count": 15,
   "id": "32edc00d-8b14-4de1-9022-d408689433cd",
   "metadata": {},
   "outputs": [
    {
     "data": {
      "text/plain": [
       "bs4.element.Tag"
      ]
     },
     "execution_count": 15,
     "metadata": {},
     "output_type": "execute_result"
    }
   ],
   "source": [
    "type(test_f.css.select(\"div\")[0])"
   ]
  },
  {
   "cell_type": "code",
   "execution_count": 18,
   "id": "8a3929f6-b8e3-4930-89c6-a7e77366f3b3",
   "metadata": {},
   "outputs": [
    {
     "name": "stdout",
     "output_type": "stream",
     "text": [
      "{'class': ['pi-item', 'pi-data', 'pi-item-spacing', 'pi-border-color'], 'data-source': 'Intro'}\n",
      "{'class': ['pi-data-value', 'pi-font']}\n",
      "{'class': ['pi-item', 'pi-data', 'pi-item-spacing', 'pi-border-color'], 'data-source': 'Type'}\n",
      "{'class': ['pi-data-value', 'pi-font']}\n",
      "{'class': ['pi-item', 'pi-data', 'pi-item-spacing', 'pi-border-color'], 'data-source': 'Civilization'}\n",
      "{'class': ['pi-data-value', 'pi-font']}\n",
      "{'class': ['pi-item', 'pi-data', 'pi-item-spacing', 'pi-border-color'], 'data-source': 'Age'}\n",
      "{'class': ['pi-data-value', 'pi-font']}\n"
     ]
    }
   ],
   "source": [
    "for div in test_f.css.select(\"div\"):\n",
    "    print(div.attrs)"
   ]
  },
  {
   "cell_type": "code",
   "execution_count": null,
   "id": "33c2d1b1-2953-493b-9a7b-adfdea687fb6",
   "metadata": {},
   "outputs": [],
   "source": []
  }
 ],
 "metadata": {
  "kernelspec": {
   "display_name": "Python 3 (ipykernel)",
   "language": "python",
   "name": "python3"
  },
  "language_info": {
   "codemirror_mode": {
    "name": "ipython",
    "version": 3
   },
   "file_extension": ".py",
   "mimetype": "text/x-python",
   "name": "python",
   "nbconvert_exporter": "python",
   "pygments_lexer": "ipython3",
   "version": "3.10.6"
  }
 },
 "nbformat": 4,
 "nbformat_minor": 5
}
